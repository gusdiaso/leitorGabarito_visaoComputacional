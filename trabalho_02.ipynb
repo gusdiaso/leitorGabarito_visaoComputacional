{
 "cells": [
  {
   "cell_type": "markdown",
   "metadata": {},
   "source": [
    "Primeiro conseguir separar a imagem por regiao onde identifica a prova e onde marca as questoes"
   ]
  },
  {
   "cell_type": "code",
   "execution_count": 45,
   "metadata": {},
   "outputs": [],
   "source": [
    "import cv2\n",
    "import numpy as np\n",
    "\n",
    "# Carregue a imagem\n",
    "image = cv2.imread('.\\Leitor\\provas_realizadas\\scan0000.jpg')\n",
    "image_resize = cv2.resize(image, None, fx=0.5, fy=0.5)\n",
    "\n",
    "# Converta a imagem para tons de cinza\n",
    "gray = cv2.cvtColor(image_resize, cv2.COLOR_BGR2GRAY)\n",
    "blur = cv2.GaussianBlur(gray,(1,1),1000)\n",
    "_, binary_frame = cv2.threshold(blur, 195, 255, cv2.THRESH_BINARY)\n",
    "cv2.imshow('binary_frame', binary_frame)\n",
    "\n",
    "\n",
    "# Detecte os contornos na imagem\n",
    "contours, _ = cv2.findContours(binary_frame, cv2.RETR_LIST, cv2.CHAIN_APPROX_SIMPLE)\n",
    "contornos_grandes = [cnt for cnt in contours if cv2.contourArea(cnt) > 1000]\n",
    "cv2.drawContours(image_resize, contornos_grandes, -1, (0, 0, 255), 1)\n",
    "\n",
    "cv2.imshow('Contornos', image_resize)\n",
    "# Encontre o maior contorno (assumindo que seja o contorno da imagem)\n",
    "# largest_contour = max(contours, key=cv2.contourArea)\n",
    "\n",
    "# # Encontre os quatro pontos extremos do contorno\n",
    "# points = cv2.boxPoints(cv2.minAreaRect(largest_contour))\n",
    "# points = np.int0(points)\n",
    "\n",
    "# # Ordem dos pontos (superior esquerdo, superior direito, inferior direito, inferior esquerdo)\n",
    "# tl, tr, br, bl = points\n",
    "\n",
    "# # Calcule a largura e a altura da imagem endireitada\n",
    "# width = max(np.linalg.norm(tr - tl), np.linalg.norm(br - bl))\n",
    "# height = max(np.linalg.norm(tr - br), np.linalg.norm(tl - bl))\n",
    "\n",
    "# # Defina os pontos de destino para a transformação\n",
    "# dst = np.array([[0, 0], [width - 1, 0], [width - 1, height - 1], [0, height - 1]], dtype='float32')\n",
    "\n",
    "# # Calcule a matriz de transformação de perspectiva\n",
    "# matrix = cv2.getPerspectiveTransform(points, dst)\n",
    "\n",
    "# # Aplique a transformação de perspectiva para endireitar a imagem\n",
    "# warped = cv2.warpPerspective(image, matrix, (width, height))\n",
    "\n",
    "# Mostre a imagem endireitada\n",
    "# cv2.imshow('Imagem Endireitada', warped)\n",
    "cv2.waitKey(0)\n",
    "cv2.destroyAllWindows()"
   ]
  }
 ],
 "metadata": {
  "kernelspec": {
   "display_name": "Python 3",
   "language": "python",
   "name": "python3"
  },
  "language_info": {
   "codemirror_mode": {
    "name": "ipython",
    "version": 3
   },
   "file_extension": ".py",
   "mimetype": "text/x-python",
   "name": "python",
   "nbconvert_exporter": "python",
   "pygments_lexer": "ipython3",
   "version": "3.11.0"
  }
 },
 "nbformat": 4,
 "nbformat_minor": 2
}
