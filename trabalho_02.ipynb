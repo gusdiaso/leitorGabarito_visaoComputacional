{
 "cells": [
  {
   "cell_type": "markdown",
   "metadata": {},
   "source": [
    "Primeiro conseguir separar a imagem por regiao onde identifica a prova e onde marca as questoes"
   ]
  },
  {
   "cell_type": "code",
   "execution_count": 7,
   "metadata": {},
   "outputs": [
    {
     "data": {
      "image/png": "[encoded data removed]",
      "text/plain": [
       "<Figure size 640x480 with 1 Axes>"
      ]
     },
     "metadata": {},
     "output_type": "display_data"
    }
   ],
   "source": [
    "# import cv2\n",
    "# import numpy as np\n",
    "# import matplotlib.pyplot as plt\n",
    "\n",
    "# # Carregue a imagem\n",
    "# image = cv2.imread('.\\Leitor\\provas_realizadas\\scan0000.jpg')\n",
    "# image_resize = cv2.resize(image, None, fx=0.5, fy=0.5)\n",
    "# image_copy = cv2.resize(image, None, fx=0.5, fy=0.5)\n",
    "\n",
    "# # Converta a imagem para tons de cinza\n",
    "# gray = cv2.cvtColor(image_copy, cv2.COLOR_BGR2GRAY)\n",
    "# blur = cv2.GaussianBlur(gray,(1,1),1000)\n",
    "# _, thresh = cv2.threshold(blur, 195, 255, cv2.THRESH_BINARY)\n",
    "\n",
    "# # Detecte os contornos na imagem\n",
    "# contours, _ = cv2.findContours(thresh, cv2.RETR_TREE, cv2.CHAIN_APPROX_SIMPLE)\n",
    "# contours = sorted(contours, key=cv2.contourArea, reverse=True) \n",
    "\n",
    "# warped_images = []\n",
    "\n",
    "# for contorno in contours:\n",
    "#     # Obtém o retângulo delimitador do contorno\n",
    "#     (x, y, w, h) = cv2.boundingRect(contorno)\n",
    "    \n",
    "#     # Verifica se a área é grande o suficiente (evita contornos pequenos indesejados)\n",
    "#     if cv2.contourArea(contorno) > 1000:\n",
    "#         # Obtém os pontos dos cantos do retângulo delimitador\n",
    "#         pts1 = np.float32([[x, y], [x+w, y], [x+w, y+h], [x, y+h]])\n",
    "        \n",
    "#         # Define os pontos para onde a região deve ser transformada\n",
    "#         pts2 = np.float32([[0, 0], [399, 0], [399, 399], [0, 399]])\n",
    "        \n",
    "#         # Calcula a matriz de transformação\n",
    "#         M = cv2.getPerspectiveTransform(pts1, pts2)\n",
    "        \n",
    "#         # Aplica a transformação à região de interesse (ROI)\n",
    "#         warped = cv2.warpPerspective(image_resize, M, (400, 400))\n",
    "#         warped_images.append(warped)\n",
    "\n",
    "# # Exibe as imagens transformadas\n",
    "# for i, warped in enumerate(warped_images):\n",
    "#     plt.plot(1, len(warped_images), i+1)\n",
    "#     plt.imshow(cv2.cvtColor(warped, cv2.COLOR_BGR2RGB))\n",
    "#     plt.axis('off')\n",
    "\n",
    "# plt.show()\n",
    "\n",
    "# # Exibe outras imagens (se houver)\n",
    "# cv2.imshow('image_resize', image_resize)\n",
    "# cv2.imshow('binary_frame', thresh)\n",
    "# cv2.imshow('image_copy', image_copy)\n",
    "\n",
    "# cv2.waitKey(0)\n",
    "# cv2.destroyAllWindows()\n",
    "\n",
    "\n",
    "import cv2\n",
    "import numpy as np\n",
    "import matplotlib.pyplot as plt\n",
    "\n",
    "# Carregue a imagem\n",
    "image = cv2.imread('.\\Leitor\\provas_realizadas\\scan0000.jpg')\n",
    "image_resize = cv2.resize(image, None, fx=0.5, fy=0.5)\n",
    "image_copy = cv2.resize(image, None, fx=0.5, fy=0.5)\n",
    "\n",
    "# Converta a imagem para tons de cinza\n",
    "gray = cv2.cvtColor(image_copy, cv2.COLOR_BGR2GRAY)\n",
    "blur = cv2.GaussianBlur(gray,(1,1),1000)\n",
    "_, thresh = cv2.threshold(blur, 195, 255, cv2.THRESH_BINARY)\n",
    "\n",
    "# Detecte os contornos na imagem\n",
    "contours, _ = cv2.findContours(thresh, cv2.RETR_TREE, cv2.CHAIN_APPROX_SIMPLE)\n",
    "contours = sorted(contours, key=cv2.contourArea, reverse=True) \n",
    "\n",
    "cv2.drawContours(image_copy, contours, -1, (0, 0, 255), 1)\n",
    "\n",
    "\n",
    "for contorno in contours:\n",
    "    (x, y, w, h) = cv2.boundingRect(contorno)\n",
    "    roi = image_resize[y:y+h, x:x+w]\n",
    "    roi_rgb = cv2.cvtColor(roi, cv2.COLOR_BGR2RGB)\n",
    "    plt.axis('off')\n",
    "    plt.imshow(roi_rgb)\n",
    "    # so ta printando 1 contorno?\n",
    "    \n",
    "\n",
    "cv2.imshow('image_resize', image_resize)\n",
    "cv2.imshow('binary_frame', thresh)\n",
    "cv2.imshow('image_copy', image_copy)\n",
    "\n",
    "\n",
    "cv2.waitKey(0)\n",
    "cv2.destroyAllWindows()"
   ]
  }
 ],
 "metadata": {
  "kernelspec": {
   "display_name": "Python 3",
   "language": "python",
   "name": "python3"
  },
  "language_info": {
   "codemirror_mode": {
    "name": "ipython",
    "version": 3
   },
   "file_extension": ".py",
   "mimetype": "text/x-python",
   "name": "python",
   "nbconvert_exporter": "python",
   "pygments_lexer": "ipython3",
   "version": "3.11.0"
  }
 },
 "nbformat": 4,
 "nbformat_minor": 2
}
